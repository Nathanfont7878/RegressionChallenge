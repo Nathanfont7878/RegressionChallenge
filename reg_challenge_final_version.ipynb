{
 "cells": [
  {
   "cell_type": "code",
   "execution_count": 1,
   "metadata": {},
   "outputs": [],
   "source": [
    "import pandas as pd\n",
    "import seaborn as sns\n",
    "import numpy as np\n",
    "import matplotlib.pyplot as plt\n",
    "from sklearn.model_selection import train_test_split\n",
    "from sklearn.linear_model import LinearRegression"
   ]
  },
  {
   "cell_type": "code",
   "execution_count": 2,
   "metadata": {},
   "outputs": [],
   "source": [
    "def main_dataframe(url : str):\n",
    "    df = pd.read_csv(url)\n",
    "    df.columns = df.columns.str.strip().str.lower().str.replace(' ', '_').str.replace('(', '').str.replace(')', '')\n",
    "    return df"
   ]
  },
  {
   "cell_type": "code",
   "execution_count": 3,
   "metadata": {},
   "outputs": [],
   "source": [
    "def calculate_le_and_acc(country: str, year : int, df):\n",
    "    output_list = []\n",
    "    # get training data\n",
    "    X_train = df.year.values\n",
    "    y_train = df.life_expectancy.values\n",
    "    # reshape training data\n",
    "    X_train = X_train.reshape(-1, 1)\n",
    "    y_train = y_train.reshape(-1, 1)\n",
    "    # fit data with linear regressor\n",
    "    regressor = LinearRegression()\n",
    "    regressor.fit(X_train, y_train)\n",
    "    # train accuracy\n",
    "    train_accuracy = round(regressor.score(X_train, y_train), 4)\n",
    "    \n",
    "    # predict life expectancy of country \n",
    "    predicted_life_expectancy_matrix = regressor.predict(np.array(year).reshape(1,-1))\n",
    "    predicted_life_expectancy = predicted_life_expectancy_matrix[0][0]\n",
    "    \n",
    "    output_list.append(predicted_life_expectancy)\n",
    "    output_list.append(train_accuracy)\n",
    "    \n",
    "    return output_list"
   ]
  },
  {
   "cell_type": "code",
   "execution_count": 4,
   "metadata": {},
   "outputs": [],
   "source": [
    "def make_dataframe_life_expectancies(list_countries, year : int):\n",
    "    # init dict for saving life expectancies\n",
    "    dict_le_countries = {}\n",
    "    \n",
    "    # init dataframe and clean column names\n",
    "    df = main_dataframe(\"LifeExpectancyData.csv\")\n",
    "    df = df.dropna()\n",
    "    \n",
    "    for country in list_countries:\n",
    "        # get appropriate data for regressing the life expectancy for a country\n",
    "        df_country = df[df.country == country] # select the country and leave main_df be\n",
    "        df_country = df_country[['year','life_expectancy']] # select only needed columns of sub dataframe      \n",
    "        df_country = df_country.reset_index()\n",
    "        \n",
    "        # calculate life expectancy in given year\n",
    "        country_le = calculate_le_and_acc(country, year, df_country)\n",
    "        dict_le_countries[country] = country_le \n",
    "    \n",
    "    dataframe = pd.DataFrame.from_dict(dict_le_countries, orient='index', columns=[f'life_expectancy_in_{year}', 'train_accuracy'])\n",
    "    return dataframe"
   ]
  },
  {
   "cell_type": "code",
   "execution_count": 5,
   "metadata": {},
   "outputs": [
    {
     "name": "stderr",
     "output_type": "stream",
     "text": [
      "C:\\Users\\Nathan\\anaconda3\\lib\\site-packages\\sklearn\\metrics\\_regression.py:594: UndefinedMetricWarning: R^2 score is not well-defined with less than two samples.\n",
      "  warnings.warn(msg, UndefinedMetricWarning)\n"
     ]
    },
    {
     "data": {
      "text/html": [
       "<div>\n",
       "<style scoped>\n",
       "    .dataframe tbody tr th:only-of-type {\n",
       "        vertical-align: middle;\n",
       "    }\n",
       "\n",
       "    .dataframe tbody tr th {\n",
       "        vertical-align: top;\n",
       "    }\n",
       "\n",
       "    .dataframe thead th {\n",
       "        text-align: right;\n",
       "    }\n",
       "</style>\n",
       "<table border=\"1\" class=\"dataframe\">\n",
       "  <thead>\n",
       "    <tr style=\"text-align: right;\">\n",
       "      <th></th>\n",
       "      <th>index</th>\n",
       "      <th>life_expectancy_in_2100</th>\n",
       "      <th>train_accuracy</th>\n",
       "    </tr>\n",
       "  </thead>\n",
       "  <tbody>\n",
       "    <tr>\n",
       "      <th>0</th>\n",
       "      <td>Niger</td>\n",
       "      <td>206.742857</td>\n",
       "      <td>0.5077</td>\n",
       "    </tr>\n",
       "    <tr>\n",
       "      <th>1</th>\n",
       "      <td>Botswana</td>\n",
       "      <td>199.224524</td>\n",
       "      <td>0.9491</td>\n",
       "    </tr>\n",
       "    <tr>\n",
       "      <th>2</th>\n",
       "      <td>Central African Republic</td>\n",
       "      <td>183.660952</td>\n",
       "      <td>0.6143</td>\n",
       "    </tr>\n",
       "    <tr>\n",
       "      <th>3</th>\n",
       "      <td>Uganda</td>\n",
       "      <td>166.864835</td>\n",
       "      <td>0.8997</td>\n",
       "    </tr>\n",
       "    <tr>\n",
       "      <th>4</th>\n",
       "      <td>Malawi</td>\n",
       "      <td>162.380220</td>\n",
       "      <td>0.9896</td>\n",
       "    </tr>\n",
       "    <tr>\n",
       "      <th>5</th>\n",
       "      <td>Rwanda</td>\n",
       "      <td>161.712088</td>\n",
       "      <td>0.7116</td>\n",
       "    </tr>\n",
       "    <tr>\n",
       "      <th>6</th>\n",
       "      <td>Zambia</td>\n",
       "      <td>157.238788</td>\n",
       "      <td>0.7144</td>\n",
       "    </tr>\n",
       "    <tr>\n",
       "      <th>7</th>\n",
       "      <td>Kenya</td>\n",
       "      <td>154.535165</td>\n",
       "      <td>0.9414</td>\n",
       "    </tr>\n",
       "    <tr>\n",
       "      <th>8</th>\n",
       "      <td>Zimbabwe</td>\n",
       "      <td>151.387738</td>\n",
       "      <td>0.8229</td>\n",
       "    </tr>\n",
       "    <tr>\n",
       "      <th>9</th>\n",
       "      <td>Germany</td>\n",
       "      <td>145.888095</td>\n",
       "      <td>0.7914</td>\n",
       "    </tr>\n",
       "  </tbody>\n",
       "</table>\n",
       "</div>"
      ],
      "text/plain": [
       "                      index  life_expectancy_in_2100  train_accuracy\n",
       "0                     Niger               206.742857          0.5077\n",
       "1                  Botswana               199.224524          0.9491\n",
       "2  Central African Republic               183.660952          0.6143\n",
       "3                    Uganda               166.864835          0.8997\n",
       "4                    Malawi               162.380220          0.9896\n",
       "5                    Rwanda               161.712088          0.7116\n",
       "6                    Zambia               157.238788          0.7144\n",
       "7                     Kenya               154.535165          0.9414\n",
       "8                  Zimbabwe               151.387738          0.8229\n",
       "9                   Germany               145.888095          0.7914"
      ]
     },
     "metadata": {},
     "output_type": "display_data"
    }
   ],
   "source": [
    "# get list of countries in dataframe\n",
    "df = pd.read_csv(\"LifeExpectancyData.csv\")\n",
    "df = df.dropna()\n",
    "list_countries = df.Country.unique().tolist()\n",
    "\n",
    "dataframe_le = make_dataframe_life_expectancies(list_countries, 2100)\n",
    "dataframe_le = dataframe_le.sort_values(\"life_expectancy_in_2100\", ascending = False)\n",
    "dataframe_le_plot = dataframe_le.reset_index()\n",
    "dataframe_le_plot = dataframe_le_plot.head(10)\n",
    "display(dataframe_le_plot)"
   ]
  },
  {
   "cell_type": "code",
   "execution_count": 6,
   "metadata": {},
   "outputs": [
    {
     "data": {
      "text/plain": [
       "<AxesSubplot:label='3528dd6e-381c-4b4e-8348-1b95d8aa70e4', ylabel='train_accuracy'>"
      ]
     },
     "execution_count": 6,
     "metadata": {},
     "output_type": "execute_result"
    },
    {
     "data": {
      "image/png": "[encoded data removed]",
      "text/plain": [
       "<Figure size 864x432 with 2 Axes>"
      ]
     },
     "metadata": {
      "needs_background": "light"
     },
     "output_type": "display_data"
    }
   ],
   "source": [
    "ax1 = sns.set_style(style=None, rc=None )\n",
    "fig, ax1 = plt.subplots(figsize=(12,6))\n",
    "plt.grid(True)\n",
    "plt.xticks(rotation=90)\n",
    "sns.barplot(data = dataframe_le_plot, x=\"index\", y='life_expectancy_in_2100', alpha=0.7, palette=\"crest\", ax=ax1)\n",
    "ax2 = ax1.twinx()\n",
    "sns.scatterplot(data = dataframe_le_plot['train_accuracy'], marker='o', color='red', ax=ax2)"
   ]
  },
  {
   "cell_type": "code",
   "execution_count": null,
   "metadata": {},
   "outputs": [],
   "source": []
  }
 ],
 "metadata": {
  "kernelspec": {
   "display_name": "Python 3",
   "language": "python",
   "name": "python3"
  },
  "language_info": {
   "codemirror_mode": {
    "name": "ipython",
    "version": 3
   },
   "file_extension": ".py",
   "mimetype": "text/x-python",
   "name": "python",
   "nbconvert_exporter": "python",
   "pygments_lexer": "ipython3",
   "version": "3.8.5"
  }
 },
 "nbformat": 4,
 "nbformat_minor": 4
}
